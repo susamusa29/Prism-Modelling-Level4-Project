{
 "cells": [
  {
   "cell_type": "code",
   "execution_count": 20,
   "id": "e1e7d9e9",
   "metadata": {},
   "outputs": [
    {
     "name": "stdout",
     "output_type": "stream",
     "text": [
      "Imports done successfully.\n"
     ]
    }
   ],
   "source": [
    "# importing pandas\n",
    "import pandas as pd\n",
    "# importing numpy\n",
    "import numpy as np\n",
    "# importing numpy\n",
    "import matplotlib.pyplot as plt\n",
    "print(\"Imports done successfully.\")"
   ]
  },
  {
   "cell_type": "code",
   "execution_count": 37,
   "id": "78ea15af",
   "metadata": {},
   "outputs": [
    {
     "name": "stdout",
     "output_type": "stream",
     "text": [
      "      s  sum  p1  p2  p3  p4  p5  p6  p7  p8  p9\n",
      "0     0    0   0   0   0   0   0   0   0   0   0\n",
      "1     0    0   0   0   0   0   0   0   0   0   1\n",
      "2     0    0   0   0   0   0   0   0   0   1   0\n",
      "3     0    0   0   0   0   0   0   0   0   1   1\n",
      "4     0    0   0   0   0   0   0   0   1   0   0\n",
      "...  ..  ...  ..  ..  ..  ..  ..  ..  ..  ..  ..\n",
      "6590  2    0   1   1   1   1   1   1   0   1   1\n",
      "6591  2    0   1   1   1   1   1   1   1   0   0\n",
      "6592  2    0   1   1   1   1   1   1   1   0   1\n",
      "6593  2    0   1   1   1   1   1   1   1   1   0\n",
      "6594  2    0   1   1   1   1   1   1   1   1   1\n",
      "\n",
      "[6595 rows x 11 columns]\n"
     ]
    }
   ],
   "source": [
    "# Read Text Files with Pandas using read_csv()\n",
    "  \n",
    "# read text file into pandas DataFrame\n",
    "df = pd.read_csv(\"~/project_files/prism-modelling-l4/shut-the-box-game/stb_rmin.sta\", sep=\"\\s+|:\\(|,|\\(|\\)|:\", engine=\"python\", usecols = [i for i in range(1,12)])\n",
    "\n",
    "# get_array\n",
    "stb_sta = df.values\n",
    "\n",
    "# upload transition file into numpy array\n",
    "stb_tra = np.loadtxt(\"stb_rmin.tra\", delimiter=\" \", skiprows=1, dtype={'names': ('state_number', 'sth', 'transition_state', 'probability','action'),\n",
    "'formats': ('i4','i4','i4','f4','S3')})\n",
    "\n",
    "print(df)\n",
    "\n",
    "states = np.loadtxt(\"stb_rmin.tra\", delimiter=\" \", skiprows=1, usecols=(0,2), dtype=int)\n",
    "trans_prblty = np.loadtxt(\"stb_rmin.tra\", delimiter=\" \", skiprows=1, usecols=3, dtype=float)\n",
    "actions = np.loadtxt(\"stb_rmin.tra\", delimiter=\" \", skiprows=1, usecols=4, dtype=str)"
   ]
  },
  {
   "cell_type": "code",
   "execution_count": 38,
   "id": "59910176",
   "metadata": {},
   "outputs": [
    {
     "name": "stdout",
     "output_type": "stream",
     "text": [
      "States where two dice is thrown after 7,8,9 pieces have been closed  [[0 0 0 ... 1 1 1]\n",
      " [0 0 0 ... 1 1 1]\n",
      " [0 0 0 ... 1 1 1]\n",
      " ...\n",
      " [0 0 1 ... 1 1 1]\n",
      " [0 0 1 ... 1 1 1]\n",
      " [0 0 1 ... 1 1 1]]\n",
      "Count of states where two dice is thrown after 7,8,9 pieces have been closed  539\n"
     ]
    }
   ],
   "source": [
    "# Data Analysis Starts Here\n",
    "\n",
    "#Note: if closing of boxes decision also has to be removed then try combinations of most popular moves.\n",
    "\n",
    "#cases where two dice are thrown\n",
    "two_dice_in = np.where(actions == \"two\")\n",
    "\n",
    "#all states where two dice is thrown\n",
    "states_two_dice = states[two_dice_in][:,0]\n",
    "count_2d = states_two_dice.shape[0]\n",
    "\n",
    "#information about the states where two dice is thrown\n",
    "#i.e what box pieces are covered\n",
    "sta_2d_info = stb_sta[states_two_dice]\n",
    "#this shows that almost never 1 & 2 are filled on a sum caused by two dice\n",
    "#so, second strategy would be to not cover 1 & 2 whenever a result from two dice is thrown, \n",
    "#whilst throwing results on two dice until 7,8,9 are covered. So don't close combinations the include 1 or 2\n",
    "#print(sta_2d_info)\n",
    "\n",
    "# check if in all states 12 are 0\n",
    "sta1 = sta_2d_info[sta_2d_info[:,2]==0]\n",
    "count1 = sta1.shape[0]\n",
    "\n",
    "sta9 = sta_2d_info[sta_2d_info[:,10]==1]\n",
    "sta8 = sta9[sta9[:,9]==1]\n",
    "sta7 = sta8[sta8[:,8]==1]\n",
    "count789 = sta7.shape[0]\n",
    "print(\"States where two dice is thrown after 7,8,9 pieces have been closed \", sta7)\n",
    "print(\"Count of states where two dice is thrown after 7,8,9 pieces have been closed \", count789)"
   ]
  },
  {
   "cell_type": "code",
   "execution_count": 39,
   "id": "15dcfce0",
   "metadata": {},
   "outputs": [],
   "source": [
    "#cases where one die are thrown\n",
    "one_die_in = np.where(actions == \"one\")\n",
    "\n",
    "#all states where one die is thrown\n",
    "states_one_die = states[one_die_in][:,0]\n",
    "\n",
    "#information about the states where one die is thrown\n",
    "#i.e what box pieces are covered\n",
    "sta_1d_info = states_one_die\n",
    "\n",
    "#count of all the states where 1 die is thrown as opposed to 2 dice\n",
    "#in the states where 1 die is thrown it is a choice between 1 or 2\n",
    "count_1d = states_one_die.shape[0]\n",
    "\n",
    "#plot the count\n",
    "# y = np.array([count_1d, count789, count_2d])\n",
    "# x = np.array(['one', two, 'all_two'])"
   ]
  },
  {
   "cell_type": "code",
   "execution_count": 40,
   "id": "7a68e816",
   "metadata": {},
   "outputs": [
    {
     "data": {
      "image/png": "[encoded data removed]",
      "text/plain": [
       "<Figure size 432x288 with 1 Axes>"
      ]
     },
     "metadata": {
      "needs_background": "light"
     },
     "output_type": "display_data"
    }
   ],
   "source": [
    "# try some plots\n",
    "\n",
    "# Create figure and subplot\n",
    "\n",
    "# Plot the decision between two and one dice \n",
    "# when such decision is possible\n",
    "\n",
    "fig = plt.figure()\n",
    "ax = fig.add_axes([0,0,1,1])\n",
    "\n",
    "langs = ['Die', '2 Dice']\n",
    "count_d = np.array([count_1d, count789])\n",
    "\n",
    "ax.bar(langs,count_d)\n",
    "\n",
    "plt.show()\n",
    "\n",
    "# The games rules state that until 7,8,9 the player has to throw 2 dice. After the 7,8,9 box pieces are filled\n",
    "# the player can decide whether to throw a die or two dice. It can be seen here that in this case almost twice \n",
    "# as much times throwing 1 die is prefered. Therefore, a strategy to try is throwing 1 die the moment 7,8,9 are\n",
    "# box pieces are filled."
   ]
  },
  {
   "cell_type": "code",
   "execution_count": 41,
   "id": "3951252b",
   "metadata": {},
   "outputs": [
    {
     "name": "stdout",
     "output_type": "stream",
     "text": [
      "times 1245 action was chosen: 1\n",
      "times c1236 action was chosen: 1\n",
      "times 345 action was chosen: 8\n",
      "times 246 action was chosen: 13\n",
      "times 237 action was chosen: 8\n",
      "times 156 action was chosen: 11\n",
      "times 147 action was chosen: 8\n",
      "times 138 action was chosen: 12\n",
      "times 129 action was chosen: 16\n",
      "times c57 action was chosen: 82\n",
      "times c48 action was chosen: 93\n",
      "times c39 action was chosen: 120\n"
     ]
    }
   ],
   "source": [
    "# find most popular action for each sum\n",
    "\n",
    "# function that @returns numbers of occurrences\n",
    "# for a @param action_str the action string\n",
    "\n",
    "def a_count(a_str):\n",
    "    sum12_in = np.where(actions == a_str)\n",
    "    #all states \n",
    "    sta_sum12 = states[sum12_in][:,0]\n",
    "    c_sta = sta_sum12.shape[0]\n",
    "    return c_sta\n",
    "\n",
    "#sum=12\n",
    "a_str = \"c1245\"\n",
    "print('times 1245 action was chosen:', a_count(a_str))\n",
    "\n",
    "a_str = \"c1236\"\n",
    "print('times c1236 action was chosen:', a_count(a_str))\n",
    "\n",
    "a_str = \"c345\"\n",
    "print('times 345 action was chosen:', a_count(a_str))\n",
    "\n",
    "a_str = \"c246\"\n",
    "print('times 246 action was chosen:', a_count(a_str))\n",
    "\n",
    "a_str = \"c237\"\n",
    "print('times 237 action was chosen:', a_count(a_str))\n",
    "\n",
    "a_str = \"c156\"\n",
    "print('times 156 action was chosen:', a_count(a_str))\n",
    "\n",
    "a_str = \"c147\"\n",
    "print('times 147 action was chosen:', a_count(a_str))\n",
    "\n",
    "a_str = \"c138\"\n",
    "print('times 138 action was chosen:', a_count(a_str))\n",
    "\n",
    "a_str = \"c129\"\n",
    "print('times 129 action was chosen:', a_count(a_str))\n",
    "\n",
    "a_str = \"c57\"\n",
    "print('times c57 action was chosen:', a_count(a_str))\n",
    "\n",
    "a_str = \"c48\"\n",
    "print('times c48 action was chosen:', a_count(a_str))\n",
    "\n",
    "a_str = \"c39\"\n",
    "print('times c39 action was chosen:', a_count(a_str))"
   ]
  },
  {
   "cell_type": "code",
   "execution_count": 42,
   "id": "4419bbb2",
   "metadata": {},
   "outputs": [
    {
     "name": "stdout",
     "output_type": "stream",
     "text": [
      "times c1235 action was chosen: 1\n",
      "times c245 action was chosen: 6\n",
      "times c236 action was chosen: 5\n",
      "times c146 action was chosen: 8\n",
      "times c137 action was chosen: 8\n",
      "times c128 action was chosen: 8\n",
      "times c56 action was chosen: 73\n",
      "times c47 action was chosen: 65\n",
      "times c38 action was chosen: 91\n",
      "times c29 action was chosen: 120\n"
     ]
    }
   ],
   "source": [
    "#sum11\n",
    "a_str = \"c1235\"\n",
    "print('times c1235 action was chosen:', a_count(a_str))\n",
    "\n",
    "a_str = \"c245\"\n",
    "print('times c245 action was chosen:', a_count(a_str))\n",
    "\n",
    "a_str = \"c236\"\n",
    "print('times c236 action was chosen:', a_count(a_str))\n",
    "\n",
    "a_str = \"c146\"\n",
    "print('times c146 action was chosen:', a_count(a_str))\n",
    "\n",
    "a_str = \"c137\"\n",
    "print('times c137 action was chosen:', a_count(a_str))\n",
    "\n",
    "a_str = \"c128\"\n",
    "print('times c128 action was chosen:', a_count(a_str))\n",
    "\n",
    "a_str = \"c56\"\n",
    "print('times c56 action was chosen:', a_count(a_str))\n",
    "\n",
    "a_str = \"c47\"\n",
    "print('times c47 action was chosen:', a_count(a_str))\n",
    "\n",
    "a_str = \"c38\"\n",
    "print('times c38 action was chosen:', a_count(a_str))\n",
    "\n",
    "a_str = \"c29\"\n",
    "print('times c29 action was chosen:', a_count(a_str))"
   ]
  },
  {
   "cell_type": "code",
   "execution_count": 43,
   "id": "660a6e7c",
   "metadata": {},
   "outputs": [
    {
     "name": "stdout",
     "output_type": "stream",
     "text": [
      "times c1234 action was chosen: 1\n",
      "times c145 action was chosen: 9\n",
      "times c136 action was chosen: 5\n",
      "times c127 action was chosen: 5\n",
      "times c235 action was chosen: 8\n",
      "times c46 action was chosen: 72\n",
      "times c37 action was chosen: 70\n",
      "times c28 action was chosen: 90\n",
      "times c19 action was chosen: 117\n"
     ]
    }
   ],
   "source": [
    "#sum10\n",
    "a_str = \"c1234\"\n",
    "print('times c1234 action was chosen:', a_count(a_str))\n",
    "\n",
    "a_str = \"c145\"\n",
    "print('times c145 action was chosen:', a_count(a_str))\n",
    "\n",
    "a_str = \"c136\"\n",
    "print('times c136 action was chosen:', a_count(a_str))\n",
    "\n",
    "a_str = \"c127\"\n",
    "print('times c127 action was chosen:', a_count(a_str))\n",
    "\n",
    "a_str = \"c235\"\n",
    "print('times c235 action was chosen:', a_count(a_str))\n",
    "\n",
    "a_str = \"c46\"\n",
    "print('times c46 action was chosen:', a_count(a_str))\n",
    "\n",
    "a_str = \"c37\"\n",
    "print('times c37 action was chosen:', a_count(a_str))\n",
    "\n",
    "a_str = \"c28\"\n",
    "print('times c28 action was chosen:', a_count(a_str))\n",
    "\n",
    "a_str = \"c19\"\n",
    "print('times c19 action was chosen:', a_count(a_str))"
   ]
  },
  {
   "cell_type": "code",
   "execution_count": 44,
   "id": "56e9a18a",
   "metadata": {},
   "outputs": [
    {
     "name": "stdout",
     "output_type": "stream",
     "text": [
      "times c234 action was chosen: 3\n",
      "times c135 action was chosen: 3\n",
      "times c126 action was chosen: 3\n",
      "times c45 action was chosen: 40\n",
      "times c36 action was chosen: 36\n",
      "times c27 action was chosen: 39\n",
      "times c18 action was chosen: 60\n",
      "times c9 action was chosen: 255\n"
     ]
    }
   ],
   "source": [
    "#sum9\n",
    "a_str = \"c234\"\n",
    "print('times c234 action was chosen:', a_count(a_str))\n",
    "\n",
    "a_str = \"c135\"\n",
    "print('times c135 action was chosen:', a_count(a_str))\n",
    "\n",
    "a_str = \"c126\"\n",
    "print('times c126 action was chosen:', a_count(a_str))\n",
    "\n",
    "a_str = \"c45\"\n",
    "print('times c45 action was chosen:', a_count(a_str))\n",
    "\n",
    "a_str = \"c36\"\n",
    "print('times c36 action was chosen:', a_count(a_str))\n",
    "\n",
    "a_str = \"c27\"\n",
    "print('times c27 action was chosen:', a_count(a_str))\n",
    "\n",
    "a_str = \"c18\"\n",
    "print('times c18 action was chosen:', a_count(a_str))\n",
    "\n",
    "a_str = \"c9\"\n",
    "print('times c9 action was chosen:', a_count(a_str))"
   ]
  },
  {
   "cell_type": "code",
   "execution_count": 45,
   "id": "7c7892e5",
   "metadata": {},
   "outputs": [
    {
     "name": "stdout",
     "output_type": "stream",
     "text": [
      "times c134 action was chosen: 6\n",
      "times c125 action was chosen: 4\n",
      "times c35 action was chosen: 53\n",
      "times c17 action was chosen: 49\n",
      "times c26 action was chosen: 46\n",
      "times c8 action was chosen: 255\n"
     ]
    }
   ],
   "source": [
    "#sum8\n",
    "a_str = \"c134\"\n",
    "print('times c134 action was chosen:', a_count(a_str))\n",
    "\n",
    "a_str = \"c125\"\n",
    "print('times c125 action was chosen:', a_count(a_str))\n",
    "\n",
    "a_str = \"c35\"\n",
    "print('times c35 action was chosen:', a_count(a_str))\n",
    "\n",
    "a_str = \"c17\"\n",
    "print('times c17 action was chosen:', a_count(a_str))\n",
    "\n",
    "a_str = \"c26\"\n",
    "print('times c26 action was chosen:', a_count(a_str))\n",
    "\n",
    "a_str = \"c8\"\n",
    "print('times c8 action was chosen:', a_count(a_str))"
   ]
  },
  {
   "cell_type": "code",
   "execution_count": 46,
   "id": "0257518b",
   "metadata": {},
   "outputs": [
    {
     "name": "stdout",
     "output_type": "stream",
     "text": [
      "times c124 action was chosen: 4\n",
      "times c34 action was chosen: 55\n",
      "times c16 action was chosen: 48\n",
      "times c25 action was chosen: 45\n",
      "times c26 action was chosen: 255\n"
     ]
    }
   ],
   "source": [
    "#sum7\n",
    "a_str = \"c124\"\n",
    "print('times c124 action was chosen:', a_count(a_str))\n",
    "\n",
    "a_str = \"c34\"\n",
    "print('times c34 action was chosen:', a_count(a_str))\n",
    "\n",
    "a_str = \"c16\"\n",
    "print('times c16 action was chosen:', a_count(a_str))\n",
    "\n",
    "a_str = \"c25\"\n",
    "print('times c25 action was chosen:', a_count(a_str))\n",
    "\n",
    "a_str = \"c7\"\n",
    "print('times c26 action was chosen:', a_count(a_str))"
   ]
  },
  {
   "cell_type": "code",
   "execution_count": 47,
   "id": "11756e0f",
   "metadata": {},
   "outputs": [
    {
     "name": "stdout",
     "output_type": "stream",
     "text": [
      "times c123 action was chosen: 8\n",
      "times c24 action was chosen: 56\n",
      "times c15 action was chosen: 56\n",
      "times c6 action was chosen: 255\n"
     ]
    }
   ],
   "source": [
    "#sum6 coulld be 1/2 die/dice\n",
    "a_str = \"c123\"\n",
    "print('times c123 action was chosen:', a_count(a_str))\n",
    "\n",
    "a_str = \"c24\"\n",
    "print('times c24 action was chosen:', a_count(a_str))\n",
    "\n",
    "a_str = \"c15\"\n",
    "print('times c15 action was chosen:', a_count(a_str))\n",
    "\n",
    "a_str = \"c6\"\n",
    "print('times c6 action was chosen:', a_count(a_str))"
   ]
  },
  {
   "cell_type": "code",
   "execution_count": 48,
   "id": "43181d0a",
   "metadata": {},
   "outputs": [
    {
     "name": "stdout",
     "output_type": "stream",
     "text": [
      "times c23 action was chosen: 58\n",
      "times c14 action was chosen: 54\n",
      "times c5 action was chosen: 255\n"
     ]
    }
   ],
   "source": [
    "#sum5 coulld be 1/2 die/dice\n",
    "a_str = \"c23\"\n",
    "print('times c23 action was chosen:', a_count(a_str))\n",
    "\n",
    "a_str = \"c14\"\n",
    "print('times c14 action was chosen:', a_count(a_str))\n",
    "\n",
    "a_str = \"c5\"\n",
    "print('times c5 action was chosen:', a_count(a_str))"
   ]
  },
  {
   "cell_type": "code",
   "execution_count": 49,
   "id": "468a5bf8",
   "metadata": {},
   "outputs": [
    {
     "name": "stdout",
     "output_type": "stream",
     "text": [
      "times c13 action was chosen: 64\n",
      "times c4 action was chosen: 255\n"
     ]
    }
   ],
   "source": [
    "#sum4 coulld be 1/2 die/dice\n",
    "a_str = \"c13\"\n",
    "print('times c13 action was chosen:', a_count(a_str))\n",
    "\n",
    "a_str = \"c4\"\n",
    "print('times c4 action was chosen:', a_count(a_str))"
   ]
  },
  {
   "cell_type": "code",
   "execution_count": 50,
   "id": "cc5de471",
   "metadata": {},
   "outputs": [
    {
     "name": "stdout",
     "output_type": "stream",
     "text": [
      "times c12 action was chosen: 64\n",
      "times c3 action was chosen: 255\n"
     ]
    }
   ],
   "source": [
    "#sum3 coulld be 1/2 die/dice\n",
    "a_str = \"c12\"\n",
    "print('times c12 action was chosen:', a_count(a_str))\n",
    "\n",
    "a_str = \"c3\"\n",
    "print('times c3 action was chosen:', a_count(a_str))"
   ]
  },
  {
   "cell_type": "code",
   "execution_count": 51,
   "id": "6218f921",
   "metadata": {},
   "outputs": [
    {
     "name": "stdout",
     "output_type": "stream",
     "text": [
      "times c2 action was chosen: 255\n"
     ]
    }
   ],
   "source": [
    "#sum2 coulld be 1/2 die/dice\n",
    "a_str = \"c2\"\n",
    "print('times c2 action was chosen:', a_count(a_str))"
   ]
  },
  {
   "cell_type": "code",
   "execution_count": 52,
   "id": "0d9cd5bf",
   "metadata": {},
   "outputs": [
    {
     "name": "stdout",
     "output_type": "stream",
     "text": [
      "times c1 action was chosen: 32\n"
     ]
    }
   ],
   "source": [
    "#sum1 coulld be 1/2 die/dice\n",
    "a_str = \"c1\"\n",
    "print('times c1 action was chosen:', a_count(a_str))"
   ]
  },
  {
   "cell_type": "code",
   "execution_count": null,
   "id": "fa0ea196",
   "metadata": {},
   "outputs": [],
   "source": []
  }
 ],
 "metadata": {
  "kernelspec": {
   "display_name": "Python 3 (ipykernel)",
   "language": "python",
   "name": "python3"
  },
  "language_info": {
   "codemirror_mode": {
    "name": "ipython",
    "version": 3
   },
   "file_extension": ".py",
   "mimetype": "text/x-python",
   "name": "python",
   "nbconvert_exporter": "python",
   "pygments_lexer": "ipython3",
   "version": "3.8.10"
  }
 },
 "nbformat": 4,
 "nbformat_minor": 5
}
