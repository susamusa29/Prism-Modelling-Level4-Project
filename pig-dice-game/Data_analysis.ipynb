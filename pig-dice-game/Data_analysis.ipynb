{
 "cells": [
  {
   "cell_type": "markdown",
   "source": [
    "### The helper script is used to export a file of all states that player 1 decides not to throw the dice anymore"
   ],
   "metadata": {
    "collapsed": false,
    "pycharm": {
     "name": "#%% md\n"
    }
   }
  },
  {
   "cell_type": "code",
   "execution_count": null,
   "outputs": [],
   "source": [
    "# importing pandas\n",
    "import pandas as pd"
   ],
   "metadata": {
    "collapsed": false,
    "pycharm": {
     "name": "#%%\n"
    }
   }
  },
  {
   "cell_type": "code",
   "execution_count": null,
   "outputs": [],
   "source": [
    "# importing numpy\n",
    "import numpy as np"
   ],
   "metadata": {
    "collapsed": false,
    "pycharm": {
     "name": "#%%\n"
    }
   }
  },
  {
   "cell_type": "code",
   "execution_count": null,
   "outputs": [],
   "source": [
    "# importing numpy\n",
    "import matplotlib.pyplot as plt"
   ],
   "metadata": {
    "collapsed": false,
    "pycharm": {
     "name": "#%%\n"
    }
   }
  },
  {
   "cell_type": "code",
   "execution_count": null,
   "outputs": [],
   "source": [
    "# path = \"~/project_files/prism-modelling-l4/shut-the-box-game/\"\n",
    "# f = open(path + \"stb_rmax.tra\", \"r\")"
   ],
   "metadata": {
    "collapsed": false,
    "pycharm": {
     "name": "#%%\n"
    }
   }
  },
  {
   "cell_type": "code",
   "execution_count": null,
   "outputs": [],
   "source": [
    "# Read Text Files with Pandas using read_csv()\n",
    "  \n",
    "# read text file into pandas DataFrame\n",
    "df = pd.read_csv(\"~/project_files/prism-modelling-l4/pig-dice-game/analysis/pd_ws25.sta\", sep=\"\\s+|:\\(|,|\\(|\\)|:\", engine=\"python\", usecols = [i for i in range(1,7)])\n",
    "\n",
    "# get_array\n",
    "stb_sta = df.values\n",
    "\n",
    "# upload transition file into numpy array\n",
    "stb_tra = np.loadtxt(\"./analysis/pd_ws25.tra\", delimiter=\" \", skiprows=1, dtype={'names': ('state_number', 'action'),\n",
    "'formats': ('i4','S3')})\n",
    "\n",
    "print(df)\n",
    "\n",
    "states = np.loadtxt(\"./analysis/pd_ws25.tra\", delimiter=\" \", skiprows=1, usecols=0, dtype=int)\n",
    "actions = np.loadtxt(\"./analysis/pd_ws25.tra\", delimiter=\" \", skiprows=1, usecols=1, dtype=str)"
   ],
   "metadata": {
    "collapsed": false,
    "pycharm": {
     "name": "#%%\n"
    }
   }
  },
  {
   "cell_type": "code",
   "execution_count": null,
   "outputs": [],
   "source": [
    "# Data Analysis Starts Here\n",
    "\n",
    "#Note: if closing of boxes decision also has to be removed then try combinations of most popular moves.\n",
    "\n",
    "#cases where player 1 decides to not throw dice and end turn\n",
    "notthrow1_action = np.where(actions == \"notthrow1\")\n",
    "print(notthrow1_action)\n",
    "\n",
    "#all states where two dice is thrown\n",
    "states_notthrow1 = states[notthrow1_action]\n",
    "print(\"States number when player 1 decides to not throw: \",states_notthrow1)\n",
    "count_notthrow1 = states_notthrow1.shape[0]\n",
    "print(\"Count of states when player 1 decides to not throw: \", count_notthrow1)\n",
    "\n",
    "# information about the states where two dice is thrown\n",
    "#i.e what box pieces are covered\n",
    "notthrow2_action = np.where(actions == \"notthrow2\")\n",
    "print(\"Count of states when player 2 decides to not throw: \",notthrow2_action)\n",
    "\n",
    "#all states where player 2 does not throw\n",
    "states_notthrow2 = states[notthrow2_action]\n",
    "print(states_notthrow2)\n",
    "count_notthrow2 = states_notthrow2.shape[0]\n",
    "print(count_notthrow2)\n",
    "\n",
    "sta_notthrow1 = stb_sta[states_notthrow1]\n",
    "print(\"States information for states where player 1 decides to not throw\\n\")\n",
    "print(sta_notthrow1)\n"
   ],
   "metadata": {
    "collapsed": false,
    "pycharm": {
     "name": "#%%\n"
    }
   }
  },
  {
   "cell_type": "code",
   "execution_count": null,
   "outputs": [],
   "source": [
    "# function that @returns numbers of occurrences\n",
    "# for a @param action_str the action string\n",
    "import os\n",
    "\n",
    "def a_state_notthrow(a_str, score):\n",
    "    act_in = np.where(actions == a_str)\n",
    "    #all states \n",
    "    sta_act = states[act_in]\n",
    "    sta_act_info = stb_sta[sta_act]\n",
    "    directory = \"./analysis/intermediate_files\"\n",
    "    file = \"sta_ws\"+str(score)+\"_\"+a_str+\".txt\"\n",
    "    path = os.path.join(directory,file)\n",
    "    np.savetxt(path, sta_act_info, delimiter=\",\", fmt=\"%d\")\n",
    "    c_sta = sta_act.shape[0]\n",
    "    return c_sta\n"
   ],
   "metadata": {
    "collapsed": false,
    "pycharm": {
     "name": "#%%\n"
    }
   }
  },
  {
   "cell_type": "code",
   "execution_count": null,
   "outputs": [],
   "source": [
    "\n",
    "#action = notthrow1\n",
    "a_str = \"notthrow1\"\n",
    "print('times notthrow1 action was chosen:', a_state_notthrow(a_str, 25))\n"
   ],
   "metadata": {
    "collapsed": false,
    "pycharm": {
     "name": "#%%\n"
    }
   }
  }
 ],
 "metadata": {
  "kernelspec": {
   "display_name": "Python 3 (ipykernel)",
   "language": "python",
   "name": "python3"
  },
  "language_info": {
   "codemirror_mode": {
    "name": "ipython",
    "version": 3
   },
   "file_extension": ".py",
   "mimetype": "text/x-python",
   "name": "python",
   "nbconvert_exporter": "python",
   "pygments_lexer": "ipython3",
   "version": "3.8.10"
  }
 },
 "nbformat": 4,
 "nbformat_minor": 5
}